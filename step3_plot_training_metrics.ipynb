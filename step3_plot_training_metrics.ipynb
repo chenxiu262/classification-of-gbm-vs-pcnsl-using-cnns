{
 "cells": [
  {
   "cell_type": "markdown",
   "id": "approved-sydney",
   "metadata": {},
   "source": [
    "# Plot training metrics\n",
    "\n",
    "In this notebook, we plot the loss and accuracy values that we collected during training. Results are plotted for three different models, and for each, training set is plotted with validation set.\n",
    "\n",
    "The three models differ by the augmentation applied during training."
   ]
  },
  {
   "cell_type": "code",
   "execution_count": null,
   "id": "functional-carnival",
   "metadata": {},
   "outputs": [],
   "source": [
    "from pathlib import Path\n",
    "import pickle\n",
    "\n",
    "import matplotlib.pyplot as plt\n",
    "import pandas as pd\n",
    "import seaborn as sns"
   ]
  },
  {
   "cell_type": "code",
   "execution_count": null,
   "id": "infrared-language",
   "metadata": {},
   "outputs": [],
   "source": [
    "def get_master_df(path_base: Path, items):\n",
    "    dfs = []\n",
    "    for key, path in items:\n",
    "        with open(path_base / path / \"history.pkl\", \"rb\") as f:\n",
    "            data = pickle.load(f)\n",
    "        df = pd.DataFrame(data)\n",
    "        df.loc[:, \"epoch\"] = range(1, len(df) + 1)\n",
    "        df.loc[:, \"Model Training\"] = key\n",
    "        dfs.append(df)\n",
    "    return pd.concat(dfs, axis=0)"
   ]
  },
  {
   "cell_type": "code",
   "execution_count": null,
   "id": "delayed-charter",
   "metadata": {},
   "outputs": [],
   "source": [
    "path_base = Path(\"checkpoints\")\n",
    "\n",
    "\n",
    "items = [\n",
    "    (\"no augmentation\", \"efficientnetb4_aug_none\"),\n",
    "    (\"base augmentation\", \"efficientnetb4_aug_base\"),\n",
    "    (\"base and noise augmentation\", \"efficientnetb4_aug_base_and_noise\"),\n",
    "]\n",
    "\n",
    "df = get_master_df(path_base, items)\n",
    "df.head()"
   ]
  },
  {
   "cell_type": "markdown",
   "id": "cultural-illinois",
   "metadata": {},
   "source": [
    "## Plot loss"
   ]
  },
  {
   "cell_type": "markdown",
   "id": "geological-trunk",
   "metadata": {},
   "source": [
    "### Plot loss for model trained without augmentation"
   ]
  },
  {
   "cell_type": "code",
   "execution_count": null,
   "id": "hybrid-rebecca",
   "metadata": {},
   "outputs": [],
   "source": [
    "df_melted = df.melt(id_vars=[\"Model Training\", \"epoch\"], value_vars=[\"loss\", \"val_loss\"])\n",
    "df_melted = df_melted.query(\"`Model Training` == 'no augmentation'\")\n",
    "\n",
    "sns.lineplot(data=df_melted, x=\"epoch\", y=\"value\", hue=\"variable\")\n",
    "plt.ylim(-0.1, 1.1)\n",
    "plt.title(\"Loss for model trained without augmentation\")\n",
    "# plt.savefig(\"outputs/efficientnetb4_aug_none/loss-curve.pdf\")\n",
    "plt.show()"
   ]
  },
  {
   "cell_type": "markdown",
   "id": "bearing-violin",
   "metadata": {},
   "source": [
    "### Plot loss for model trained with 'base' augmentation"
   ]
  },
  {
   "cell_type": "code",
   "execution_count": null,
   "id": "experienced-smooth",
   "metadata": {},
   "outputs": [],
   "source": [
    "df_melted = df.melt(id_vars=[\"Model Training\", \"epoch\"], value_vars=[\"loss\", \"val_loss\"])\n",
    "df_melted = df_melted.query(\"`Model Training` == 'base augmentation'\")\n",
    "\n",
    "sns.lineplot(data=df_melted, x=\"epoch\", y=\"value\", hue=\"variable\")\n",
    "plt.ylim(-0.1, 1.1)\n",
    "plt.title(\"Loss for model trained with 'base' augmentation\")\n",
    "# plt.savefig(\"outputs/efficientnetb4_aug_base/loss-curve.pdf\")\n",
    "plt.show()"
   ]
  },
  {
   "cell_type": "markdown",
   "id": "outside-peace",
   "metadata": {},
   "source": [
    "### Plot loss for model trained with 'base_and_noise' augmentation"
   ]
  },
  {
   "cell_type": "code",
   "execution_count": null,
   "id": "ruled-peeing",
   "metadata": {
    "scrolled": true
   },
   "outputs": [],
   "source": [
    "df_melted = df.melt(id_vars=[\"Model Training\", \"epoch\"], value_vars=[\"loss\", \"val_loss\"])\n",
    "df_melted = df_melted.query(\"`Model Training` == 'base and noise augmentation'\")\n",
    "\n",
    "sns.lineplot(data=df_melted, x=\"epoch\", y=\"value\", hue=\"variable\")\n",
    "plt.ylim(-0.1, 1.1)\n",
    "plt.title(\"Loss for model trained with 'base and noise' augmentation\")\n",
    "# plt.savefig(\"outputs/efficientnetb4_aug_base_and_noise/loss-curve.pdf\")\n",
    "plt.show()"
   ]
  },
  {
   "cell_type": "markdown",
   "id": "continental-population",
   "metadata": {},
   "source": [
    "## Plot accuracy"
   ]
  },
  {
   "cell_type": "markdown",
   "id": "bright-slovakia",
   "metadata": {},
   "source": [
    "### Plot accuracy for model trained without augmentation"
   ]
  },
  {
   "cell_type": "code",
   "execution_count": null,
   "id": "spatial-tooth",
   "metadata": {},
   "outputs": [],
   "source": [
    "df_melted = df.melt(id_vars=[\"Model Training\", \"epoch\"], value_vars=[\"binary_accuracy\", \"val_binary_accuracy\"])\n",
    "df_melted = df_melted.query(\"`Model Training` == 'no augmentation'\")\n",
    "\n",
    "sns.lineplot(data=df_melted, x=\"epoch\", y=\"value\", hue=\"variable\")\n",
    "plt.ylim(0.5, 1.1)\n",
    "plt.title(\"Accuracy for model trained without augmentation\")\n",
    "# plt.savefig(\"outputs/efficientnetb4_aug_none/accuracy-curve.pdf\")\n",
    "plt.show()"
   ]
  },
  {
   "cell_type": "markdown",
   "id": "parental-perfume",
   "metadata": {},
   "source": [
    "### Plot loss for model trained with 'base' augmentation"
   ]
  },
  {
   "cell_type": "code",
   "execution_count": null,
   "id": "interim-concentrate",
   "metadata": {},
   "outputs": [],
   "source": [
    "df_melted = df.melt(id_vars=[\"Model Training\", \"epoch\"], value_vars=[\"binary_accuracy\", \"val_binary_accuracy\"])\n",
    "df_melted = df_melted.query(\"`Model Training` == 'base augmentation'\")\n",
    "\n",
    "sns.lineplot(data=df_melted, x=\"epoch\", y=\"value\", hue=\"variable\")\n",
    "plt.ylim(0.5, 1.1)\n",
    "plt.title(\"Accuracy for model trained with 'base' augmentation\")\n",
    "# plt.savefig(\"outputs/efficientnetb4_aug_base/accuracy-curve.pdf\")\n",
    "plt.show()"
   ]
  },
  {
   "cell_type": "markdown",
   "id": "painful-marijuana",
   "metadata": {},
   "source": [
    "### Plot loss for model trained with 'base_and_noise' augmentation"
   ]
  },
  {
   "cell_type": "code",
   "execution_count": null,
   "id": "large-thunder",
   "metadata": {
    "scrolled": true
   },
   "outputs": [],
   "source": [
    "df_melted = df.melt(id_vars=[\"Model Training\", \"epoch\"], value_vars=[\"binary_accuracy\", \"val_binary_accuracy\"])\n",
    "df_melted = df_melted.query(\"`Model Training` == 'base and noise augmentation'\")\n",
    "\n",
    "sns.lineplot(data=df_melted, x=\"epoch\", y=\"value\", hue=\"variable\")\n",
    "plt.ylim(0.5, 1.1)\n",
    "plt.title(\"Accuracy for model trained with 'base and noise' augmentation\")\n",
    "# plt.savefig(\"outputs/efficientnetb4_aug_base_and_noise/accuracy-curve.pdf\")\n",
    "plt.show()"
   ]
  },
  {
   "cell_type": "code",
   "execution_count": null,
   "id": "designing-deposit",
   "metadata": {},
   "outputs": [],
   "source": []
  },
  {
   "cell_type": "code",
   "execution_count": null,
   "id": "composite-conflict",
   "metadata": {},
   "outputs": [],
   "source": []
  }
 ],
 "metadata": {
  "kernelspec": {
   "display_name": "Python [conda env:gbm-pcnsl-newtf]",
   "language": "python",
   "name": "conda-env-gbm-pcnsl-newtf-py"
  },
  "language_info": {
   "codemirror_mode": {
    "name": "ipython",
    "version": 3
   },
   "file_extension": ".py",
   "mimetype": "text/x-python",
   "name": "python",
   "nbconvert_exporter": "python",
   "pygments_lexer": "ipython3",
   "version": "3.8.10"
  }
 },
 "nbformat": 4,
 "nbformat_minor": 5
}
