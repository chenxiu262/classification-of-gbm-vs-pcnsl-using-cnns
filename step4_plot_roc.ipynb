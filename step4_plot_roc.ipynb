{
 "cells": [
  {
   "cell_type": "markdown",
   "metadata": {},
   "source": [
    "# Run inference and plot ROC curves"
   ]
  },
  {
   "cell_type": "markdown",
   "metadata": {},
   "source": [
    "## Run inference on test set\n",
    "\n",
    "These inference results are used later to plot ROC curves."
   ]
  },
  {
   "cell_type": "code",
   "execution_count": null,
   "metadata": {},
   "outputs": [],
   "source": [
    "import csv\n",
    "from pathlib import Path\n",
    "from typing import Union\n",
    "\n",
    "import numpy as np\n",
    "from PIL import Image\n",
    "import tensorflow as tf\n",
    "\n",
    "PathType = Union[str, Path]"
   ]
  },
  {
   "cell_type": "code",
   "execution_count": null,
   "metadata": {},
   "outputs": [],
   "source": [
    "def get_model(weights: PathType = None) -> tf.keras.Model:\n",
    "    tfkl = tf.keras.layers\n",
    "\n",
    "    # This is from the tf.keras.applications.efficientnet implementation in version\n",
    "    # 2.5.0 of tensorflow.\n",
    "    DENSE_KERNEL_INITIALIZER = {\n",
    "        \"class_name\": \"VarianceScaling\",\n",
    "        \"config\": {\"scale\": 1.0 / 3.0, \"mode\": \"fan_out\", \"distribution\": \"uniform\"},\n",
    "    }\n",
    "\n",
    "    base_model = tf.keras.applications.EfficientNetB4(\n",
    "        include_top=False,\n",
    "        input_shape=(380, 380, 3),\n",
    "        weights=None,\n",
    "    )\n",
    "    base_model.activity_regularizer = tf.keras.regularizers.l2(l=0.01)\n",
    "\n",
    "    _x = tfkl.GlobalAveragePooling2D(name=\"avg_pool\")(base_model.output)\n",
    "    _x = tfkl.Dropout(0.5)(_x)\n",
    "    _x = tfkl.Dense(\n",
    "        1,\n",
    "        activation=\"sigmoid\",\n",
    "        name=\"predictions\",\n",
    "        kernel_initializer=DENSE_KERNEL_INITIALIZER,\n",
    "    )(_x)\n",
    "    model = tf.keras.Model(inputs=base_model.input, outputs=_x)\n",
    "    if weights is not None:\n",
    "        model.load_weights(weights)\n",
    "    return model"
   ]
  },
  {
   "cell_type": "code",
   "execution_count": null,
   "metadata": {},
   "outputs": [],
   "source": [
    "def load_image(path: PathType) -> np.ndarray:\n",
    "    \"\"\"Load and process an image in the same way that was done for training.\"\"\"\n",
    "    img = Image.open(path)\n",
    "    img = img.convert('RGB')\n",
    "    img = img.resize(size=(380, 380), resample=Image.LANCZOS)\n",
    "    img = np.asarray(img)\n",
    "    assert img.dtype == np.uint8\n",
    "    return img.astype(np.float32)"
   ]
  },
  {
   "cell_type": "code",
   "execution_count": null,
   "metadata": {},
   "outputs": [],
   "source": [
    "# Load all images in testing set.\n",
    "test_set_paths = list(Path(\"test-set\").glob(\"*.png\"))\n",
    "x = np.stack([load_image(p) for p in test_set_paths], axis=0)\n",
    "x.shape"
   ]
  },
  {
   "cell_type": "code",
   "execution_count": null,
   "metadata": {
    "scrolled": true
   },
   "outputs": [],
   "source": [
    "# Map the checkpoints to the directories where we will save outputs.\n",
    "mapping = {\n",
    "    \"checkpoints/efficientnetb4_aug_none/ckpt_137_0.0000.hdf5\": \"outputs/efficientnetb4_aug_none/\",\n",
    "    \"checkpoints/efficientnetb4_aug_base/ckpt_292_0.0000.hdf5\": \"outputs/efficientnetb4_aug_base/\",\n",
    "    \"checkpoints/efficientnetb4_aug_base_and_noise/ckpt_238_0.0000.hdf5\": \"outputs/efficientnetb4_aug_base_and_noise/\"\n",
    "}\n",
    "\n",
    "# Run inference on all images in the test set, for each model.\n",
    "for checkpoint, output_path in mapping.items():\n",
    "    output = Path(output_path) / \"inference.csv\"\n",
    "    print(f\"++ Running inference using {checkpoint} and saving to {output}\")\n",
    "    output.parent.mkdir(parents=True, exist_ok=True)\n",
    "\n",
    "    model = get_model(weights=checkpoint)\n",
    "    y_probs = model.predict(x, batch_size=8, verbose=True)\n",
    "    y_probs = y_probs.flatten()\n",
    "    y_preds = (y_probs > 0.5).astype(int)\n",
    "    y_preds_str = map(lambda p: \"gbm\" if p == 0 else \"pcnsl\", y_preds)\n",
    "    filenames = [p.name for p in test_set_paths]\n",
    "    # Write results to CSV.\n",
    "    rows = list(zip(filenames, y_preds_str, 1 - y_probs, y_probs))\n",
    "    rows.insert(0, (\"filename\", \"prediction\", \"prob_gbm\", \"prob_pcnsl\"))\n",
    "    with open(output, \"w\", newline=\"\") as csvfile:\n",
    "        writer = csv.writer(csvfile)\n",
    "        writer.writerows(rows)"
   ]
  },
  {
   "cell_type": "markdown",
   "metadata": {},
   "source": [
    "## Plot ROC curves\n",
    "\n",
    "The following resources were used to write the code below:\n",
    "- [Scikit-learn example of plotting ROC](https://scikit-learn.org/stable/auto_examples/model_selection/plot_roc.html#sphx-glr-auto-examples-model-selection-plot-roc-py)\n",
    "- [StackOverflow post about AUC confidence intervals](https://stackoverflow.com/a/19132400/5666087)\n",
    "\n",
    "We use bootstrapping to estimate a confidence interval around our AUROC (aka AUC)."
   ]
  },
  {
   "cell_type": "code",
   "execution_count": null,
   "metadata": {},
   "outputs": [],
   "source": [
    "import matplotlib.pyplot as plt\n",
    "import pandas as pd\n",
    "from sklearn import metrics"
   ]
  },
  {
   "cell_type": "code",
   "execution_count": null,
   "metadata": {},
   "outputs": [],
   "source": [
    "def auc_bootstrap(y_true, y_pred, n_bootstraps, seed=None):\n",
    "    # With help from https://stackoverflow.com/a/19132400/5666087\n",
    "    bootstrapped_aucs = np.empty(n_bootstraps)\n",
    "    prng = np.random.RandomState(seed)\n",
    "    for i in range(n_bootstraps):\n",
    "        indices = prng.randint(0, y_pred.shape[0], y_pred.shape[0])\n",
    "        if len(np.unique(y_true[indices])) < 2:\n",
    "            continue\n",
    "        bootstrapped_aucs[i] = metrics.roc_auc_score(\n",
    "            y_true[indices], y_pred[indices])\n",
    "        print(f\"{round((i + 1) / n_bootstraps * 100, 2)} % completed bootstrapping\", end=\"\\r\")\n",
    "    print()\n",
    "    bootstrapped_aucs.sort()\n",
    "    return bootstrapped_aucs\n",
    "\n",
    "def plot_roc(y_true, y_pred, positive_class, n_bootstraps=10000, seed=None):\n",
    "    fpr, tpr, _ = metrics.roc_curve(y_true=y_true, y_score=y_score)\n",
    "    \n",
    "    aucs = auc_bootstrap(y_true, y_score, n_bootstraps=n_bootstraps, seed=seed)\n",
    "    roc_auc = aucs.mean()\n",
    "    confidence_95 = aucs[int(0.025 * aucs.shape[0])], aucs[int(0.975 * aucs.shape[0])]\n",
    "\n",
    "    fig = plt.figure()\n",
    "    lw = 2\n",
    "    plt.plot(fpr, tpr, color='black', lw=lw)\n",
    "    plt.plot([0, 1], [0, 1], color='black', lw=lw, linestyle='--')\n",
    "    plt.xlim([0.0, 1.0])\n",
    "    plt.ylim([0.0, 1.05])\n",
    "    plt.xlabel('False Positive Rate')\n",
    "    plt.ylabel('True Positive Rate')\n",
    "    plt.title(f'ROC for GBM vs PCNSL ({positive_class} is positive class)')\n",
    "    \n",
    "    print(f\"ROC curve (area = {roc_auc:0.02f}\")\n",
    "    print(f\"95% CI = {confidence_95[0]:0.2f} - {confidence_95[1]:0.2f}\")\n",
    "    print(n_bootstraps, \"bootstraps\")\n",
    "    \n",
    "    return fig, roc_auc, confidence_95"
   ]
  },
  {
   "cell_type": "code",
   "execution_count": null,
   "metadata": {
    "scrolled": false
   },
   "outputs": [],
   "source": [
    "N_BOOTSTRAPS = 10000\n",
    "SEED = 42\n",
    "\n",
    "for inference_output_dir in mapping.values():\n",
    "    inference_output_dir = Path(inference_output_dir)\n",
    "    prediction_file = inference_output_dir / \"inference.csv\"\n",
    "    print(\"\\n++ Calculating metrics for\", prediction_file)\n",
    "    \n",
    "    prediction_file = Path(prediction_file)\n",
    "\n",
    "    df = pd.read_excel(\"ground-truth.xlsx\", sheet_name=2, index_col='filename')\n",
    "    df_probs = pd.read_csv(prediction_file, index_col=\"filename\")\n",
    "    df_probs.loc[:, \"class\"] = df.loc[:, \"class\"]\n",
    "    del df  # To be sure we don't reference this by accident.\n",
    "    df_probs.head()\n",
    "\n",
    "    # PCNSL == 1\n",
    "    print(\"++ PCNSL == 1\")\n",
    "    y_true = (df_probs.loc[:, 'class'] == 'pcnsl').astype(int)\n",
    "    y_score = df_probs.loc[:, 'prob_pcnsl']\n",
    "    fig, roc_auc, confidence_95 = plot_roc(\n",
    "        y_true, y_score, \"PCNSL\", n_bootstraps=N_BOOTSTRAPS, seed=SEED)\n",
    "    fig.savefig(inference_output_dir / \"pcnsl_roc_curve.pdf\")\n",
    "    with (inference_output_dir / \"pcnsl_metrics.txt\").open(\"w\") as f:\n",
    "        print(\"PCNSL results\")\n",
    "        print(f\"ROC AUC = {roc_auc}\", file=f)\n",
    "        print(f\"95% CI = {confidence_95[0]:0.2f} - {confidence_95[1]:0.2f}\", file=f)\n",
    "        print(f\"Using {N_BOOTSTRAPS:,d} bootstraps\", file=f)\n",
    "        print(file=f)\n",
    "        print(metrics.classification_report(y_true, y_score > 0.5, target_names=[\"GBM\", \"PCNSL\"]), file=f)\n",
    "        \n",
    "\n",
    "    # GBM == 1\n",
    "    print(\"++ GBM == 1\")\n",
    "    y_true = (df_probs.loc[:, 'class'] == 'gbm').astype(int)\n",
    "    y_score = df_probs.loc[:, 'prob_gbm']\n",
    "    fig, roc_auc, confidence_95 = plot_roc(\n",
    "        y_true, y_score, \"GBM\", n_bootstraps=N_BOOTSTRAPS, seed=SEED)\n",
    "    fig.savefig(inference_output_dir / \"gbm_roc_curve.pdf\")\n",
    "    with (inference_output_dir / \"gbm_metrics.txt\").open(\"w\") as f:\n",
    "        print(\"GBM results\", file=f)\n",
    "        print(f\"ROC AUC = {roc_auc}\", file=f)\n",
    "        print(f\"95% CI = {confidence_95[0]:0.2f} - {confidence_95[1]:0.2f}\", file=f)\n",
    "        print(f\"Using {N_BOOTSTRAPS:,d} bootstraps\", file=f)\n",
    "        print(file=f)\n",
    "        print(metrics.classification_report(y_true, y_score > 0.5, target_names=[\"PCNSL\", \"GBM\"]), file=f)"
   ]
  },
  {
   "cell_type": "code",
   "execution_count": null,
   "metadata": {},
   "outputs": [],
   "source": []
  },
  {
   "cell_type": "code",
   "execution_count": null,
   "metadata": {},
   "outputs": [],
   "source": []
  },
  {
   "cell_type": "code",
   "execution_count": null,
   "metadata": {},
   "outputs": [],
   "source": []
  }
 ],
 "metadata": {
  "kernelspec": {
   "display_name": "Python [conda env:gbm-pcnsl-newtf]",
   "language": "python",
   "name": "conda-env-gbm-pcnsl-newtf-py"
  },
  "language_info": {
   "codemirror_mode": {
    "name": "ipython",
    "version": 3
   },
   "file_extension": ".py",
   "mimetype": "text/x-python",
   "name": "python",
   "nbconvert_exporter": "python",
   "pygments_lexer": "ipython3",
   "version": "3.8.10"
  }
 },
 "nbformat": 4,
 "nbformat_minor": 2
}
